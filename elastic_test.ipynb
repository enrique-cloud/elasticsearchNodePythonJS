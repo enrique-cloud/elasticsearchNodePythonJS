{
 "cells": [
  {
   "cell_type": "markdown",
   "id": "f69d6754-c78c-4c93-9802-bfc6c569a70e",
   "metadata": {},
   "source": [
    "# ElasticSearch"
   ]
  },
  {
   "cell_type": "markdown",
   "id": "a07835ec-bf3f-45b4-9518-7bc2d49bf53b",
   "metadata": {},
   "source": [
    "# MeSH vocabulary"
   ]
  },
  {
   "cell_type": "code",
   "execution_count": 1,
   "id": "5aef9cfd-df2b-40d4-8933-00ac879979d9",
   "metadata": {},
   "outputs": [
    {
     "name": "stderr",
     "output_type": "stream",
     "text": [
      "/Users/enrique/ElasticSearch/venv/lib/python3.7/site-packages/IPython/core/interactiveshell.py:3553: DtypeWarning: Columns (6,9) have mixed types.Specify dtype option on import or set low_memory=False.\n",
      "  exec(code_obj, self.user_global_ns, self.user_ns)\n"
     ]
    }
   ],
   "source": [
    "import pandas as pd\n",
    "\n",
    "\n",
    "MeSH_vocabulary= pd.read_csv(r\"MeSH_vocabulary/VOCABULARY.csv\", sep=\"\\t\")#, header=None)\n",
    "MeSH_concept = pd.read_csv(r\"MeSH_vocabulary/CONCEPT.csv\", sep=\"\\t\")#, header=None)"
   ]
  },
  {
   "cell_type": "code",
   "execution_count": 2,
   "id": "f6e05929-e64d-4aba-a377-22617e1cd022",
   "metadata": {},
   "outputs": [],
   "source": [
    "# MeSH_vocabulary.head()"
   ]
  },
  {
   "cell_type": "code",
   "execution_count": 3,
   "id": "9011890e-e84b-464f-b166-9925f0e20504",
   "metadata": {},
   "outputs": [
    {
     "data": {
      "text/html": [
       "<div>\n",
       "<style scoped>\n",
       "    .dataframe tbody tr th:only-of-type {\n",
       "        vertical-align: middle;\n",
       "    }\n",
       "\n",
       "    .dataframe tbody tr th {\n",
       "        vertical-align: top;\n",
       "    }\n",
       "\n",
       "    .dataframe thead th {\n",
       "        text-align: right;\n",
       "    }\n",
       "</style>\n",
       "<table border=\"1\" class=\"dataframe\">\n",
       "  <thead>\n",
       "    <tr style=\"text-align: right;\">\n",
       "      <th></th>\n",
       "      <th>concept_id</th>\n",
       "      <th>concept_name</th>\n",
       "      <th>domain_id</th>\n",
       "      <th>vocabulary_id</th>\n",
       "      <th>concept_class_id</th>\n",
       "      <th>standard_concept</th>\n",
       "      <th>concept_code</th>\n",
       "      <th>valid_start_date</th>\n",
       "      <th>valid_end_date</th>\n",
       "      <th>invalid_reason</th>\n",
       "    </tr>\n",
       "  </thead>\n",
       "  <tbody>\n",
       "    <tr>\n",
       "      <th>0</th>\n",
       "      <td>1146945</td>\n",
       "      <td>concept.concept_id</td>\n",
       "      <td>Metadata</td>\n",
       "      <td>CDM</td>\n",
       "      <td>Field</td>\n",
       "      <td>S</td>\n",
       "      <td>CDM1</td>\n",
       "      <td>20141111</td>\n",
       "      <td>20991231</td>\n",
       "      <td>NaN</td>\n",
       "    </tr>\n",
       "    <tr>\n",
       "      <th>1</th>\n",
       "      <td>1146954</td>\n",
       "      <td>concept.invalid_reason</td>\n",
       "      <td>Metadata</td>\n",
       "      <td>CDM</td>\n",
       "      <td>Field</td>\n",
       "      <td>S</td>\n",
       "      <td>CDM10</td>\n",
       "      <td>20141111</td>\n",
       "      <td>20991231</td>\n",
       "      <td>NaN</td>\n",
       "    </tr>\n",
       "    <tr>\n",
       "      <th>2</th>\n",
       "      <td>1147044</td>\n",
       "      <td>observation_period.observation_period_id</td>\n",
       "      <td>Metadata</td>\n",
       "      <td>CDM</td>\n",
       "      <td>Field</td>\n",
       "      <td>S</td>\n",
       "      <td>CDM100</td>\n",
       "      <td>20141111</td>\n",
       "      <td>20991231</td>\n",
       "      <td>NaN</td>\n",
       "    </tr>\n",
       "    <tr>\n",
       "      <th>3</th>\n",
       "      <td>756315</td>\n",
       "      <td>metadata.metadata_type_concept_id</td>\n",
       "      <td>Metadata</td>\n",
       "      <td>CDM</td>\n",
       "      <td>Field</td>\n",
       "      <td>S</td>\n",
       "      <td>CDM1000</td>\n",
       "      <td>20210925</td>\n",
       "      <td>20991231</td>\n",
       "      <td>NaN</td>\n",
       "    </tr>\n",
       "    <tr>\n",
       "      <th>4</th>\n",
       "      <td>756316</td>\n",
       "      <td>metadata.name</td>\n",
       "      <td>Metadata</td>\n",
       "      <td>CDM</td>\n",
       "      <td>Field</td>\n",
       "      <td>S</td>\n",
       "      <td>CDM1001</td>\n",
       "      <td>20210925</td>\n",
       "      <td>20991231</td>\n",
       "      <td>NaN</td>\n",
       "    </tr>\n",
       "  </tbody>\n",
       "</table>\n",
       "</div>"
      ],
      "text/plain": [
       "   concept_id                              concept_name domain_id  \\\n",
       "0     1146945                        concept.concept_id  Metadata   \n",
       "1     1146954                    concept.invalid_reason  Metadata   \n",
       "2     1147044  observation_period.observation_period_id  Metadata   \n",
       "3      756315         metadata.metadata_type_concept_id  Metadata   \n",
       "4      756316                             metadata.name  Metadata   \n",
       "\n",
       "  vocabulary_id concept_class_id standard_concept concept_code  \\\n",
       "0           CDM            Field                S         CDM1   \n",
       "1           CDM            Field                S        CDM10   \n",
       "2           CDM            Field                S       CDM100   \n",
       "3           CDM            Field                S      CDM1000   \n",
       "4           CDM            Field                S      CDM1001   \n",
       "\n",
       "   valid_start_date  valid_end_date invalid_reason  \n",
       "0          20141111        20991231            NaN  \n",
       "1          20141111        20991231            NaN  \n",
       "2          20141111        20991231            NaN  \n",
       "3          20210925        20991231            NaN  \n",
       "4          20210925        20991231            NaN  "
      ]
     },
     "execution_count": 3,
     "metadata": {},
     "output_type": "execute_result"
    }
   ],
   "source": [
    "MeSH_concept.head()"
   ]
  },
  {
   "cell_type": "markdown",
   "id": "32fb8f60-1026-46fe-8794-3d8e813572c4",
   "metadata": {},
   "source": [
    "# Manipulate data"
   ]
  },
  {
   "cell_type": "code",
   "execution_count": 4,
   "id": "9a749c97-b12e-418c-92d9-52a29e1c13ac",
   "metadata": {},
   "outputs": [],
   "source": [
    "def findWholeWord(w):\n",
    "    return re.compile(r'\\b({0})\\b'.format(w), flags=re.IGNORECASE).search"
   ]
  },
  {
   "cell_type": "code",
   "execution_count": 5,
   "id": "1166f6bc-eb0d-49df-9c59-d30555ca8fda",
   "metadata": {},
   "outputs": [
    {
     "data": {
      "text/plain": [
       "['fenbendazole sulfoxide',\n",
       " 'abemaciclib',\n",
       " 'lauromacrogols',\n",
       " 'calcium aluminosilicate',\n",
       " 'lianfang',\n",
       " 'dinutuximab',\n",
       " 'osimertinib',\n",
       " 'potassium alum',\n",
       " 'dicholine succinate',\n",
       " 'Sodium-22']"
      ]
     },
     "execution_count": 5,
     "metadata": {},
     "output_type": "execute_result"
    }
   ],
   "source": [
    "property_1= \"concept_name\"\n",
    "property_2 = \"domain_id\"\n",
    "label = \"Drug\"\n",
    "drugs = []\n",
    "\n",
    "for i,j in zip(MeSH_concept[property_1],MeSH_concept[property_2]):\n",
    "    if j == label:\n",
    "        drugs.append(i)\n",
    "\n",
    "drugs[0:10]"
   ]
  },
  {
   "cell_type": "code",
   "execution_count": 6,
   "id": "d2e1a92b-6b25-4ca0-a5ca-4aa320d55911",
   "metadata": {},
   "outputs": [
    {
     "data": {
      "text/plain": [
       "5718"
      ]
     },
     "execution_count": 6,
     "metadata": {},
     "output_type": "execute_result"
    }
   ],
   "source": [
    "len(drugs)"
   ]
  },
  {
   "cell_type": "markdown",
   "id": "242e9fb4-2060-4557-aff0-9b05a2ee3102",
   "metadata": {},
   "source": [
    "# ScispaCy preprocessing"
   ]
  },
  {
   "cell_type": "code",
   "execution_count": 7,
   "id": "c203bcb4-aa73-4aed-9970-5fb77e2a62d1",
   "metadata": {},
   "outputs": [
    {
     "name": "stderr",
     "output_type": "stream",
     "text": [
      "Your CPU supports instructions that this binary was not compiled to use: AVX2\n",
      "For maximum performance, you can install NMSLIB from sources \n",
      "pip install --no-binary :all: nmslib\n"
     ]
    }
   ],
   "source": [
    "import spacy\n",
    "from scispacy.linking import EntityLinker\n",
    "\n",
    "\n",
    "nlpSci = spacy.load('en_core_sci_lg')\n",
    "nlpSpacy = spacy.load('en_core_web_lg')"
   ]
  },
  {
   "cell_type": "code",
   "execution_count": 8,
   "id": "5c02ddcd-aab1-426b-ac69-6899c12592bc",
   "metadata": {},
   "outputs": [],
   "source": [
    "# nlpSpacy._path\n",
    "# nlpSci._path"
   ]
  },
  {
   "cell_type": "code",
   "execution_count": 9,
   "id": "74046ae8-c997-4c2b-9373-ed49f70ebba8",
   "metadata": {},
   "outputs": [
    {
     "name": "stderr",
     "output_type": "stream",
     "text": [
      "/Users/enrique/ElasticSearch/venv/lib/python3.7/site-packages/sklearn/base.py:338: UserWarning: Trying to unpickle estimator TfidfTransformer from version 0.20.3 when using version 1.0.2. This might lead to breaking code or invalid results. Use at your own risk. For more info please refer to:\n",
      "https://scikit-learn.org/stable/modules/model_persistence.html#security-maintainability-limitations\n",
      "  UserWarning,\n",
      "/Users/enrique/ElasticSearch/venv/lib/python3.7/site-packages/sklearn/base.py:338: UserWarning: Trying to unpickle estimator TfidfVectorizer from version 0.20.3 when using version 1.0.2. This might lead to breaking code or invalid results. Use at your own risk. For more info please refer to:\n",
      "https://scikit-learn.org/stable/modules/model_persistence.html#security-maintainability-limitations\n",
      "  UserWarning,\n"
     ]
    },
    {
     "data": {
      "text/plain": [
       "<scispacy.linking.EntityLinker at 0x12fa7cd10>"
      ]
     },
     "execution_count": 9,
     "metadata": {},
     "output_type": "execute_result"
    }
   ],
   "source": [
    "# Add the entity linking pipe to the spacy pipeline\n",
    "nlpSci.add_pipe(\"scispacy_linker\", config={\"resolve_abbreviations\": True, \"linker_name\": \"umls\"})"
   ]
  },
  {
   "cell_type": "code",
   "execution_count": 10,
   "id": "d14b0ffd-46ea-4671-939f-703f31caec85",
   "metadata": {},
   "outputs": [
    {
     "name": "stderr",
     "output_type": "stream",
     "text": [
      "/Users/enrique/ElasticSearch/venv/lib/python3.7/site-packages/scispacy/candidate_generation.py:284: VisibleDeprecationWarning: Creating an ndarray from ragged nested sequences (which is a list-or-tuple of lists-or-tuples-or ndarrays with different lengths or shapes) is deprecated. If you meant to do this, you must specify 'dtype=object' when creating the ndarray.\n",
      "  extended_neighbors[empty_vectors_boolean_flags] = numpy.array(neighbors)[:-1]\n",
      "/Users/enrique/ElasticSearch/venv/lib/python3.7/site-packages/scispacy/candidate_generation.py:285: VisibleDeprecationWarning: Creating an ndarray from ragged nested sequences (which is a list-or-tuple of lists-or-tuples-or ndarrays with different lengths or shapes) is deprecated. If you meant to do this, you must specify 'dtype=object' when creating the ndarray.\n",
      "  extended_distances[empty_vectors_boolean_flags] = numpy.array(distances)[:-1]\n"
     ]
    }
   ],
   "source": [
    "drugs_Sci = []\n",
    "\n",
    "linker = nlpSci.get_pipe(\"scispacy_linker\")\n",
    "\n",
    "for i in drugs:\n",
    "    try:\n",
    "        drugs_Sci.append( linker.umls.cui_to_entity[ nlpSci(i).ents[0]._.umls_ents[0][0] ] )\n",
    "    except:\n",
    "        continue"
   ]
  },
  {
   "cell_type": "code",
   "execution_count": 11,
   "id": "a82173a2-4083-4f3b-8f31-50d13928157b",
   "metadata": {},
   "outputs": [
    {
     "data": {
      "text/plain": [
       "CUI: C0069761, Name: oxfendazole\n",
       "Definition: None\n",
       "TUI(s): T109, T121\n",
       "Aliases (abbreviated, total: 14): \n",
       "\t FBZ-SO, OFDZ, Oxfendazole (substance), oxfendazole, 5-(phenylsulfinyl)-2-benzimidazolecarbamic acid methyl ester, Fenbendazole sulphoxide, OXFENDAZOLE, Fenbendazole S-oxide, methyl 5(6)-phenylsulfinyl-2-benzimidazolecarbamate, Oxfendazole"
      ]
     },
     "execution_count": 11,
     "metadata": {},
     "output_type": "execute_result"
    }
   ],
   "source": [
    "drugs_Sci[0]"
   ]
  },
  {
   "cell_type": "code",
   "execution_count": 12,
   "id": "2cb4c5b7-10f6-4613-99ab-037290517f2e",
   "metadata": {},
   "outputs": [],
   "source": [
    "list_all_drugs = []\n",
    "\n",
    "for i in drugs_Sci:\n",
    "    list_all_drugs.append( {\"name\": i[1], \"CUI\": i[0], \"TUI\": i[3], \"definition\": i[4], \"aliases\": i[2]} )"
   ]
  },
  {
   "cell_type": "code",
   "execution_count": 13,
   "id": "cd6cbdfa-f7a2-43f4-8399-8f0b79f82df4",
   "metadata": {},
   "outputs": [
    {
     "data": {
      "text/plain": [
       "[{'name': 'oxfendazole',\n",
       "  'CUI': 'C0069761',\n",
       "  'TUI': ['T109', 'T121'],\n",
       "  'definition': None,\n",
       "  'aliases': ['FBZ-SO',\n",
       "   'OFDZ',\n",
       "   'Oxfendazole (substance)',\n",
       "   'oxfendazole',\n",
       "   '5-(phenylsulfinyl)-2-benzimidazolecarbamic acid methyl ester',\n",
       "   'Fenbendazole sulphoxide',\n",
       "   'OXFENDAZOLE',\n",
       "   'Fenbendazole S-oxide',\n",
       "   'methyl 5(6)-phenylsulfinyl-2-benzimidazolecarbamate',\n",
       "   'Oxfendazole',\n",
       "   '(5-(phenylsulfinyl)-1H-benzimidazol-2-yl)carbamic acid methyl ester',\n",
       "   'fenbendazole sulfoxide',\n",
       "   'Fenbendazole sulfoxide',\n",
       "   '5-phenylsulfinyl-2-carbomethoxyaminobenzimidazole']},\n",
       " {'name': 'abemaciclib',\n",
       "  'CUI': 'C3852841',\n",
       "  'TUI': ['T109', 'T121'],\n",
       "  'definition': 'An orally available cyclin-dependent kinase (CDK) inhibitor that targets the CDK4 (cyclin D1) and CDK6 (cyclin D3) cell cycle pathway, with potential antineoplastic activity. Abemaciclib specifically inhibits CDK4 and 6, thereby inhibiting retinoblastoma (Rb) protein phosphorylation in early G1. Inhibition of Rb phosphorylation prevents CDK-mediated G1-S phase transition, thereby arresting the cell cycle in the G1 phase, suppressing DNA synthesis and inhibiting cancer cell growth. Overexpression of the serine/threonine kinases CDK4/6, as seen in certain types of cancer, causes cell cycle deregulation.',\n",
       "  'aliases': ['Abemaciclib (substance)',\n",
       "   '2-Pyrimidinamine, N-(5-((4-ethyl-1-piperazinyl)methyl)-2-pyridinyl)-5-fluoro-4-(4-fluoro-2-methyl-1-(1-methylethyl)-1H-benzimidazol-6-yl)',\n",
       "   'Abemaciclib-containing product',\n",
       "   '2-pyrimidinamine, N-(5-((4-ethyl-1-piperazinyl)methyl)-2-pyridinyl)-5-fluoro-4-(4-fluoro-2-methyl-1-(1-methylethyl)-1H-benzimidazol-6-yl)',\n",
       "   '5-(4-ethylpiperazin-1-ylmethyl)pyridin-2-yl)-(5-fluoro-4-(7-fluoro-3-isopropyl-2-methyl-3H-benzimidazol-5-yl)pyrimidin-2-yl)amine',\n",
       "   'abemaciclib',\n",
       "   'ABEMACICLIB',\n",
       "   '5-(4-ethylpiperazin-1-ylmethyl)pyridin-2-yl)-(5-fluoro-4-(7-fluoro-3-isopropyl-2-methyl-3H-benzoimidazol-5-yl)pyrimidin-2-yl)amine',\n",
       "   'Abemaciclib',\n",
       "   'Product containing abemaciclib (medicinal product)']}]"
      ]
     },
     "execution_count": 13,
     "metadata": {},
     "output_type": "execute_result"
    }
   ],
   "source": [
    "list_all_drugs[0:2]"
   ]
  },
  {
   "cell_type": "code",
   "execution_count": 14,
   "id": "2f5eb6b8-7c30-469d-9af0-e55dda664f66",
   "metadata": {},
   "outputs": [
    {
     "data": {
      "text/plain": [
       "5486"
      ]
     },
     "execution_count": 14,
     "metadata": {},
     "output_type": "execute_result"
    }
   ],
   "source": [
    "len(list_all_drugs)"
   ]
  },
  {
   "cell_type": "markdown",
   "id": "dbe60ad3-486a-4031-9ee5-82c21bdc3ba1",
   "metadata": {},
   "source": [
    "# Client"
   ]
  },
  {
   "cell_type": "code",
   "execution_count": 17,
   "id": "d4fb1b1b-9da6-4e46-bcd8-0d0d0efa285a",
   "metadata": {},
   "outputs": [],
   "source": [
    "from elasticsearch import Elasticsearch\n",
    "\n",
    "\n",
    "# Password for the 'elastic' user generated by Elasticsearch\n",
    "ELASTIC_PASSWORD = \"password\"\n",
    "\n",
    "# Create the client instance\n",
    "es = Elasticsearch(\n",
    "    \"https://localhost:9200\",\n",
    "    ca_certs=\"path\",\n",
    "    basic_auth=(\"elastic\", ELASTIC_PASSWORD)\n",
    ")"
   ]
  },
  {
   "cell_type": "code",
   "execution_count": 18,
   "id": "4893fd48-ed1f-42b4-bd3e-e40955f7c888",
   "metadata": {},
   "outputs": [
    {
     "data": {
      "text/plain": [
       "ObjectApiResponse({'name': 'enrique.krasamo.com', 'cluster_name': 'elasticsearch', 'cluster_uuid': 'EjBSx9rNQaqUYs5CPFNpCw', 'version': {'number': '8.3.3', 'build_flavor': 'default', 'build_type': 'tar', 'build_hash': '801fed82df74dbe537f89b71b098ccaff88d2c56', 'build_date': '2022-07-23T19:30:09.227964828Z', 'build_snapshot': False, 'lucene_version': '9.2.0', 'minimum_wire_compatibility_version': '7.17.0', 'minimum_index_compatibility_version': '7.0.0'}, 'tagline': 'You Know, for Search'})"
      ]
     },
     "execution_count": 18,
     "metadata": {},
     "output_type": "execute_result"
    }
   ],
   "source": [
    "# Successful response!\n",
    "es.info()"
   ]
  },
  {
   "cell_type": "markdown",
   "id": "66fe0c89-3589-4dbb-9903-6a7185832a0e",
   "metadata": {},
   "source": [
    "# Indices"
   ]
  },
  {
   "cell_type": "markdown",
   "id": "46014fe4-1ea2-4f51-b8ca-03ccf35430ec",
   "metadata": {},
   "source": [
    "# Create Index and Updating"
   ]
  },
  {
   "cell_type": "code",
   "execution_count": 19,
   "id": "cf243470-0ac8-4322-9404-5879526f81e4",
   "metadata": {},
   "outputs": [],
   "source": [
    "n_id = 1\n",
    "\n",
    "for i in list_all_drugs:\n",
    "    es.index(index=\"drugs\", id=n_id, document=i)\n",
    "    n_id += 1"
   ]
  },
  {
   "cell_type": "code",
   "execution_count": 20,
   "id": "2329be76-a8ca-4eca-80ba-4c6a07c366bb",
   "metadata": {},
   "outputs": [],
   "source": [
    "# print(resp['result'])"
   ]
  },
  {
   "cell_type": "code",
   "execution_count": 21,
   "id": "f20cd067-88a4-4016-b0a1-503fefaa4c25",
   "metadata": {},
   "outputs": [
    {
     "data": {
      "text/plain": [
       "HeadApiResponse(True)"
      ]
     },
     "execution_count": 21,
     "metadata": {},
     "output_type": "execute_result"
    }
   ],
   "source": [
    "es.indices.exists(index=\"drugs\")"
   ]
  },
  {
   "cell_type": "code",
   "execution_count": 24,
   "id": "ce8db190-e2ec-49b0-be4e-62a32bbd3f8e",
   "metadata": {},
   "outputs": [
    {
     "data": {
      "text/plain": [
       "ObjectApiResponse({'acknowledged': True})"
      ]
     },
     "execution_count": 24,
     "metadata": {},
     "output_type": "execute_result"
    }
   ],
   "source": [
    "# delete all the index\n",
    "# es.indices.delete(index=\"drugs\")"
   ]
  },
  {
   "cell_type": "markdown",
   "id": "8e27a1fc-3912-467d-9b17-5657d7308d3c",
   "metadata": {},
   "source": [
    "# Get a document"
   ]
  },
  {
   "cell_type": "code",
   "execution_count": 22,
   "id": "7bbf7015-7b8e-4adf-ae73-308cfe282135",
   "metadata": {},
   "outputs": [
    {
     "name": "stdout",
     "output_type": "stream",
     "text": [
      "{'_index': 'drugs', '_id': '1', '_version': 1, '_seq_no': 0, '_primary_term': 1, 'found': True, '_source': {'name': 'oxfendazole', 'CUI': 'C0069761', 'TUI': ['T109', 'T121'], 'definition': None, 'aliases': ['FBZ-SO', 'OFDZ', 'Oxfendazole (substance)', 'oxfendazole', '5-(phenylsulfinyl)-2-benzimidazolecarbamic acid methyl ester', 'Fenbendazole sulphoxide', 'OXFENDAZOLE', 'Fenbendazole S-oxide', 'methyl 5(6)-phenylsulfinyl-2-benzimidazolecarbamate', 'Oxfendazole', '(5-(phenylsulfinyl)-1H-benzimidazol-2-yl)carbamic acid methyl ester', 'fenbendazole sulfoxide', 'Fenbendazole sulfoxide', '5-phenylsulfinyl-2-carbomethoxyaminobenzimidazole']}}\n"
     ]
    }
   ],
   "source": [
    "resp = es.get(index=\"drugs\", id=1)\n",
    "print(resp)"
   ]
  },
  {
   "cell_type": "code",
   "execution_count": 23,
   "id": "0a1fdefa-2b89-43a3-94e4-8b0e55d927b5",
   "metadata": {},
   "outputs": [
    {
     "data": {
      "text/plain": [
       "{'name': 'oxfendazole',\n",
       " 'CUI': 'C0069761',\n",
       " 'TUI': ['T109', 'T121'],\n",
       " 'definition': None,\n",
       " 'aliases': ['FBZ-SO',\n",
       "  'OFDZ',\n",
       "  'Oxfendazole (substance)',\n",
       "  'oxfendazole',\n",
       "  '5-(phenylsulfinyl)-2-benzimidazolecarbamic acid methyl ester',\n",
       "  'Fenbendazole sulphoxide',\n",
       "  'OXFENDAZOLE',\n",
       "  'Fenbendazole S-oxide',\n",
       "  'methyl 5(6)-phenylsulfinyl-2-benzimidazolecarbamate',\n",
       "  'Oxfendazole',\n",
       "  '(5-(phenylsulfinyl)-1H-benzimidazol-2-yl)carbamic acid methyl ester',\n",
       "  'fenbendazole sulfoxide',\n",
       "  'Fenbendazole sulfoxide',\n",
       "  '5-phenylsulfinyl-2-carbomethoxyaminobenzimidazole']}"
      ]
     },
     "execution_count": 23,
     "metadata": {},
     "output_type": "execute_result"
    }
   ],
   "source": [
    "resp['_source']"
   ]
  },
  {
   "cell_type": "markdown",
   "id": "a4e6e5e2-ba61-4eb0-abcc-c7ff4a3c8077",
   "metadata": {},
   "source": [
    "# Query"
   ]
  },
  {
   "cell_type": "code",
   "execution_count": 24,
   "id": "2185792c-5d2a-4e68-aba9-2051d38cf4fa",
   "metadata": {},
   "outputs": [],
   "source": [
    "query = {\n",
    "      \"match\": {\n",
    "          \"name\":\"aspirin\"\n",
    "    }\n",
    "}"
   ]
  },
  {
   "cell_type": "code",
   "execution_count": 25,
   "id": "df7df233-85fe-4915-917e-046b80bda779",
   "metadata": {},
   "outputs": [],
   "source": [
    "resp = es.search(index=\"drugs\", query=query)"
   ]
  },
  {
   "cell_type": "code",
   "execution_count": 26,
   "id": "fd29d891-06dd-46f2-8134-17d51a137b7d",
   "metadata": {},
   "outputs": [
    {
     "data": {
      "text/plain": [
       "ObjectApiResponse({'took': 1478, 'timed_out': False, '_shards': {'total': 1, 'successful': 1, 'skipped': 0, 'failed': 0}, 'hits': {'total': {'value': 1, 'relation': 'eq'}, 'max_score': 9.293224, 'hits': [{'_index': 'drugs', '_id': '1038', '_score': 9.293224, '_ignored': ['definition.keyword'], '_source': {'name': 'aspirin', 'CUI': 'C0004057', 'TUI': ['T109', 'T121'], 'definition': 'The prototypical analgesic used in the treatment of mild to moderate pain. It has anti-inflammatory and antipyretic properties and acts as an inhibitor of cyclooxygenase which results in the inhibition of the biosynthesis of prostaglandins. Aspirin also inhibits platelet aggregation and is used in the prevention of arterial and venous thrombosis. (From Martindale, The Extra Pharmacopoeia, 30th ed, p5)', 'aliases': ['Acide acétylsalicylique', 'Acid, Acetylsalicylic', '2-Acetoxybenzoic acid', 'O-acetylsalicylic acid', '2-(Acetyloxy)benzoic Acid', 'aspirin chemicals', 'Salicylic acid acetate', 'Product containing aspirin (medicinal product)', '2-(acetyloxy)benzoic Acid', 'ácido acetilsalicílico', '2-Acetoxybenzenecarboxylic acid', 'Acidum acetylsalicylicum', 'Acetylsalicylsäure', 'Acetylsalicylic Acid', 'Aspirin-containing product', 'Acetylsalicylic acid', 'Benzoic acid, 2-(acetyloxy)-', 'acide 2-(acétyloxy)benzoque', 'aspirin antiplatelet', 'Aspirina', 'acetylsalicylic acid', 'o-carboxyphenyl acetate', 'aspirin products', 'Aspirin (substance)', 'aspirins', 'Aspirin', 'ASA', 'aspirin', 'o-acetoxybenzoic acid', 'antiplatelet aspirin', 'Azetylsalizylsäure', 'ASPIRIN']}}]}})"
      ]
     },
     "execution_count": 26,
     "metadata": {},
     "output_type": "execute_result"
    }
   ],
   "source": [
    "resp"
   ]
  },
  {
   "cell_type": "code",
   "execution_count": 27,
   "id": "d28686a0-873c-4bd6-abe6-7d895f8435d2",
   "metadata": {},
   "outputs": [
    {
     "data": {
      "text/plain": [
       "'aspirin'"
      ]
     },
     "execution_count": 27,
     "metadata": {},
     "output_type": "execute_result"
    }
   ],
   "source": [
    "resp['hits'][\"hits\"][0][\"_source\"][\"name\"]"
   ]
  },
  {
   "cell_type": "code",
   "execution_count": 28,
   "id": "77904666-3391-46a7-86d5-acd1f65ac805",
   "metadata": {},
   "outputs": [
    {
     "data": {
      "text/plain": [
       "'The prototypical analgesic used in the treatment of mild to moderate pain. It has anti-inflammatory and antipyretic properties and acts as an inhibitor of cyclooxygenase which results in the inhibition of the biosynthesis of prostaglandins. Aspirin also inhibits platelet aggregation and is used in the prevention of arterial and venous thrombosis. (From Martindale, The Extra Pharmacopoeia, 30th ed, p5)'"
      ]
     },
     "execution_count": 28,
     "metadata": {},
     "output_type": "execute_result"
    }
   ],
   "source": [
    "resp['hits'][\"hits\"][0][\"_source\"][\"definition\"]"
   ]
  },
  {
   "cell_type": "code",
   "execution_count": null,
   "id": "c8b8467e-4db7-47a7-82f7-7a480eaa035b",
   "metadata": {},
   "outputs": [],
   "source": []
  },
  {
   "cell_type": "code",
   "execution_count": null,
   "id": "05306b94-13e4-4b4f-95d4-f95025a0bff4",
   "metadata": {},
   "outputs": [],
   "source": []
  },
  {
   "cell_type": "code",
   "execution_count": null,
   "id": "8b466bcb-ad50-4ba6-9d0b-ce48148fb314",
   "metadata": {},
   "outputs": [],
   "source": []
  },
  {
   "cell_type": "code",
   "execution_count": null,
   "id": "757ba18b-828b-4833-ab73-f44495a15abf",
   "metadata": {},
   "outputs": [],
   "source": []
  },
  {
   "cell_type": "code",
   "execution_count": null,
   "id": "858f01f8-a1ff-4d57-ba60-ad71c6d785ac",
   "metadata": {},
   "outputs": [],
   "source": []
  },
  {
   "cell_type": "code",
   "execution_count": null,
   "id": "c94a51c2-1bf2-42f9-add6-638700b25cfe",
   "metadata": {},
   "outputs": [],
   "source": []
  },
  {
   "cell_type": "code",
   "execution_count": null,
   "id": "2fbd0503-7055-417e-91e7-215c9aabce15",
   "metadata": {},
   "outputs": [],
   "source": []
  },
  {
   "cell_type": "markdown",
   "id": "7bfb8c2d-147d-49d7-92b8-84192c1e5d34",
   "metadata": {},
   "source": [
    "# Refresh"
   ]
  },
  {
   "cell_type": "code",
   "execution_count": 15,
   "id": "cf912be3-4920-449b-9fb0-c88951fba693",
   "metadata": {},
   "outputs": [
    {
     "data": {
      "text/plain": [
       "ObjectApiResponse({'_shards': {'total': 2, 'successful': 1, 'failed': 0}})"
      ]
     },
     "execution_count": 15,
     "metadata": {},
     "output_type": "execute_result"
    }
   ],
   "source": [
    "es.indices.refresh(index=\"test-index\")"
   ]
  },
  {
   "cell_type": "markdown",
   "id": "b6fde31c-dac5-4d50-a35d-89d52810d74a",
   "metadata": {},
   "source": [
    "# Searching / querys"
   ]
  },
  {
   "cell_type": "code",
   "execution_count": 16,
   "id": "a84340fc-c103-4b6e-8693-e81b899d4f6c",
   "metadata": {},
   "outputs": [],
   "source": [
    "query = {\n",
    "    \"match_all\": {}\n",
    "}"
   ]
  },
  {
   "cell_type": "code",
   "execution_count": 17,
   "id": "d0ccedc6-f470-415a-b0ad-fbf5638e809d",
   "metadata": {},
   "outputs": [
    {
     "name": "stdout",
     "output_type": "stream",
     "text": [
      "Got 1 Hits:\n",
      "2022-07-27T14:38:20.723216 author_name3: Interensting content3...\n"
     ]
    }
   ],
   "source": [
    "resp = es.search(index=\"test-index\", query=query)\n",
    "\n",
    "print(\"Got %d Hits:\" % resp['hits']['total']['value'])\n",
    "\n",
    "for hit in resp['hits']['hits']:\n",
    "    print(\"%(timestamp)s %(author)s: %(text)s\" % hit[\"_source\"])"
   ]
  },
  {
   "cell_type": "code",
   "execution_count": 18,
   "id": "7602652a-98a3-491c-ba05-8b551f26be80",
   "metadata": {},
   "outputs": [
    {
     "data": {
      "text/plain": [
       "ObjectApiResponse({'took': 1, 'timed_out': False, '_shards': {'total': 1, 'successful': 1, 'skipped': 0, 'failed': 0}, 'hits': {'total': {'value': 1, 'relation': 'eq'}, 'max_score': 1.0, 'hits': [{'_index': 'test-index', '_id': '1', '_score': 1.0, '_source': {'author': 'author_name3', 'text': 'Interensting content3...', 'timestamp': '2022-07-27T14:38:20.723216'}}]}})"
      ]
     },
     "execution_count": 18,
     "metadata": {},
     "output_type": "execute_result"
    }
   ],
   "source": [
    "resp"
   ]
  },
  {
   "cell_type": "markdown",
   "id": "efdff55c-7bd7-4b76-a706-7bfd8ed1da7f",
   "metadata": {},
   "source": [
    "# Deleting"
   ]
  },
  {
   "cell_type": "code",
   "execution_count": 360,
   "id": "3a5442ef-160a-4930-818c-c69059624e5f",
   "metadata": {},
   "outputs": [],
   "source": [
    "# delete only the index values\n",
    "es.delete(index=\"import\", id=1)"
   ]
  },
  {
   "cell_type": "code",
   "execution_count": 357,
   "id": "831ed7e8-d197-465c-9c22-5c3f3cee14fb",
   "metadata": {},
   "outputs": [
    {
     "data": {
      "text/plain": [
       "ObjectApiResponse({'acknowledged': True})"
      ]
     },
     "execution_count": 357,
     "metadata": {},
     "output_type": "execute_result"
    }
   ],
   "source": [
    "# delete all the index\n",
    "es.indices.delete(index=\"import\")"
   ]
  },
  {
   "cell_type": "code",
   "execution_count": 358,
   "id": "7125c3ac-3cb6-434b-9bd1-0f2cdad9312b",
   "metadata": {},
   "outputs": [
    {
     "data": {
      "text/plain": [
       "HeadApiResponse(False)"
      ]
     },
     "execution_count": 358,
     "metadata": {},
     "output_type": "execute_result"
    }
   ],
   "source": [
    "es.indices.exists(index=\"import\")"
   ]
  },
  {
   "cell_type": "code",
   "execution_count": null,
   "id": "d81a400b-2296-40e8-bb1d-c86ad07e534c",
   "metadata": {},
   "outputs": [],
   "source": []
  }
 ],
 "metadata": {
  "kernelspec": {
   "display_name": "Python 3 (ipykernel)",
   "language": "python",
   "name": "python3"
  },
  "language_info": {
   "codemirror_mode": {
    "name": "ipython",
    "version": 3
   },
   "file_extension": ".py",
   "mimetype": "text/x-python",
   "name": "python",
   "nbconvert_exporter": "python",
   "pygments_lexer": "ipython3",
   "version": "3.7.9"
  }
 },
 "nbformat": 4,
 "nbformat_minor": 5
}
